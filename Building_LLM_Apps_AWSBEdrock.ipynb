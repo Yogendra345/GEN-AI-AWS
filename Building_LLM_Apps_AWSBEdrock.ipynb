{
 "cells": [
  {
   "cell_type": "code",
   "execution_count": 2,
   "id": "15e6fbd5",
   "metadata": {},
   "outputs": [],
   "source": [
    "# Introduction : "
   ]
  },
  {
   "cell_type": "markdown",
   "id": "f28c2c3b",
   "metadata": {},
   "source": []
  },
  {
   "cell_type": "code",
   "execution_count": 1,
   "id": "0ab49a80",
   "metadata": {},
   "outputs": [
    {
     "name": "stdout",
     "output_type": "stream",
     "text": [
      "Defaulting to user installation because normal site-packages is not writeable\n",
      "Requirement already satisfied: boto3 in c:\\users\\yogendra\\appdata\\roaming\\python\\python313\\site-packages (1.40.5)\n",
      "Requirement already satisfied: botocore<1.41.0,>=1.40.5 in c:\\users\\yogendra\\appdata\\roaming\\python\\python313\\site-packages (from boto3) (1.40.5)\n",
      "Requirement already satisfied: jmespath<2.0.0,>=0.7.1 in c:\\users\\yogendra\\appdata\\roaming\\python\\python313\\site-packages (from boto3) (1.0.1)\n",
      "Requirement already satisfied: s3transfer<0.14.0,>=0.13.0 in c:\\users\\yogendra\\appdata\\roaming\\python\\python313\\site-packages (from boto3) (0.13.1)\n",
      "Requirement already satisfied: python-dateutil<3.0.0,>=2.1 in c:\\users\\yogendra\\appdata\\roaming\\python\\python313\\site-packages (from botocore<1.41.0,>=1.40.5->boto3) (2.9.0.post0)\n",
      "Requirement already satisfied: urllib3!=2.2.0,<3,>=1.25.4 in c:\\users\\yogendra\\appdata\\roaming\\python\\python313\\site-packages (from botocore<1.41.0,>=1.40.5->boto3) (2.5.0)\n",
      "Requirement already satisfied: six>=1.5 in c:\\users\\yogendra\\appdata\\roaming\\python\\python313\\site-packages (from python-dateutil<3.0.0,>=2.1->botocore<1.41.0,>=1.40.5->boto3) (1.17.0)\n"
     ]
    },
    {
     "name": "stderr",
     "output_type": "stream",
     "text": [
      "\n",
      "[notice] A new release of pip is available: 25.1.1 -> 25.2\n",
      "[notice] To update, run: C:\\Python313\\python.exe -m pip install --upgrade pip\n"
     ]
    }
   ],
   "source": [
    "!pip install boto3"
   ]
  },
  {
   "cell_type": "markdown",
   "id": "985a4866",
   "metadata": {},
   "source": [
    "### Step 2 : Import boto3, json and set the region for Bedrock"
   ]
  },
  {
   "cell_type": "code",
   "execution_count": 2,
   "id": "e07d9faa",
   "metadata": {},
   "outputs": [
    {
     "name": "stdout",
     "output_type": "stream",
     "text": [
      "Bedrock client created successfully ccx\n"
     ]
    }
   ],
   "source": [
    "import boto3  # This imports the boto3 library, which is the official AWS SDK for Python. It allows you to interact with AWS services programmatically.\n",
    "import json # This imports the json module to work with JSON data (encoding and decoding), commonly used for request and response payloads with AWS services.\n",
    "from botocore.exceptions import ClientError # This exception is used to catch errors returned by AWS services when API calls fail.\n",
    "region= \"us-east-1\" # represents the AWS region where the Bedrock runtime client will send its requests\n",
    "bedrock_runtime = boto3.client(\"bedrock-runtime\", region_name=region)\n",
    "print(\"Bedrock client created successfully ccx\")"
   ]
  },
  {
   "cell_type": "markdown",
   "id": "5604bdc7",
   "metadata": {},
   "source": [
    "### Step 3 : Decide the model to be used and Prompt"
   ]
  },
  {
   "cell_type": "code",
   "execution_count": 5,
   "id": "35b1d7dc",
   "metadata": {},
   "outputs": [
    {
     "name": "stdout",
     "output_type": "stream",
     "text": [
      "Using model : amazon.titan-text-express-v1\n",
      "Prompt:  \n",
      "Command : Write a short paragraph about benefits of Cloud Computing\n",
      "\n"
     ]
    }
   ],
   "source": [
    "# Define the model id for Amazon Titan Text Express\n",
    "model_id = \"amazon.titan-text-express-v1\"\n",
    "prompt = \"\"\" \n",
    "Command : Write a short paragraph about benefits of Cloud Computing\n",
    "\"\"\"\n",
    "print (f\"Using model : {model_id}\")\n",
    "print(f\"Prompt: {prompt}\")\n"
   ]
  },
  {
   "cell_type": "markdown",
   "id": "04c6b36d",
   "metadata": {},
   "source": [
    "### Step 4 : Decide the inference parameteres like TokenCount, Temperature and topP"
   ]
  },
  {
   "cell_type": "code",
   "execution_count": 6,
   "id": "89bffd28",
   "metadata": {},
   "outputs": [
    {
     "name": "stdout",
     "output_type": "stream",
     "text": [
      "Request payload prepared\n"
     ]
    }
   ],
   "source": [
    "# Create a payload\n",
    "#Configure infrence parameters\n",
    "inference_parameters = {\n",
    "    \"inputText\": prompt,\n",
    "    \"textGenerationConfig\":{\n",
    "        \"maxTokenCount\" : 512, # Limit the response lenth\n",
    "        \"temperature\" : 0.5,  # Control the randomness of the output\n",
    "        \"topP\" : 0.9, # Control the diversity of the output\n",
    "    },\n",
    "}\n",
    "\n",
    "# Convert the request payload to JSON. Note that 'inference_parameters' is a Python dictionary.\n",
    "# json.dumps(...) is a function from Python’s json module that converts a Python object (like a dictionary) into a JSON-formatted string\n",
    "# The result, request_payload, is a string that contains the JSON representation of the inference_parameters dictionary.\n",
    "request_payload = json.dumps(inference_parameters)\n",
    "print(\"Request payload prepared\")\n"
   ]
  },
  {
   "cell_type": "markdown",
   "id": "ee3ac58c",
   "metadata": {},
   "source": [
    "### Step 5 : Invoke the LLM model"
   ]
  },
  {
   "cell_type": "code",
   "execution_count": 7,
   "id": "8ddc6bea",
   "metadata": {},
   "outputs": [
    {
     "name": "stdout",
     "output_type": "stream",
     "text": [
      "\n",
      "Generated Text:\n",
      "Cloud computing is a technology that uses remote servers to store, process, and manage data rather than relying on local servers or personal devices. This allows users to access their files and applications from anywhere with an internet connection, making it convenient and accessible.\n",
      "\n",
      "One of the primary benefits of cloud computing is scalability. Businesses can easily scale their operations up or down based on their needs, without having to invest in expensive hardware or software. This can help reduce costs and improve efficiency.\n",
      "\n",
      "Another benefit of cloud computing is cost savings. Cloud providers offer pay-as-you-go pricing models, which means that businesses only pay for the resources they use. This can be more cost-effective than purchasing and maintaining hardware and software.\n",
      "\n",
      "Cloud computing also provides improved security. Cloud providers use advanced security measures to protect data from unauthorized access, theft, and natural disasters. This can help businesses reduce the risk of data breaches and other security incidents.\n",
      "\n",
      "Cloud computing also provides improved collaboration. Cloud-based applications and services allow teams to work together in real-time, regardless of their location. This can improve productivity and efficiency, and can help businesses reduce costs associated with travel and meetings.\n",
      "\n",
      "However, there are also some challenges associated with cloud computing. One of the primary challenges is data privacy. Cloud providers have access to large amounts of data, and there is always a risk that this data could be compromised. Businesses must ensure that they have appropriate security measures in place to protect their data.\n",
      "\n",
      "Another challenge is data migration. Moving data from local servers to the cloud can be complex and time-consuming. Businesses must ensure that they have a clear migration plan in place to minimize the risk of data loss or downtime.\n",
      "\n",
      "Despite these challenges, cloud computing is becoming increasingly popular. Many businesses are moving their operations to the cloud, and many individuals are using cloud-based applications and services to access their files and applications.\n",
      "\n",
      "In conclusion, cloud computing is a technology that uses remote servers to store, process, and manage data. It provides scalability, cost savings, improved security, and improved collaboration. However, there are also some challenges associated with cloud computing, and businesses must ensure that they have appropriate security measures in place to protect their data.\n"
     ]
    }
   ],
   "source": [
    "import json\n",
    "import logging\n",
    "from botocore.exceptions import ClientError\n",
    "logger = logging.getLogger(__name__)\n",
    "\n",
    "try:\n",
    "    response = bedrock_runtime.invoke_model(\n",
    "        body=request_payload,\n",
    "        modelId=model_id,\n",
    "        accept=\"application/json\",\n",
    "        contentType=\"application/json\"\n",
    "    )\n",
    "    \n",
    "    # Fix method to access response body:\n",
    "    response_body = json.loads(response.get(\"body\").read())\n",
    "\n",
    "    # Extract generated text and potential error\n",
    "    generated_text = response_body[\"results\"][0][\"outputText\"]\n",
    "    error = response_body.get(\"error\")\n",
    "\n",
    "    if error is not None:\n",
    "        raise RuntimeError(f\"Text generation error. Error: {error}\")\n",
    "\n",
    "    logger.info(\"Successfully generated text with Amazon Titan Text model %s\", model_id)\n",
    "    print(\"\\nGenerated Text:\")\n",
    "    print(generated_text)\n",
    "\n",
    "    #return response_body\n",
    "\n",
    "except ClientError as e:\n",
    "    print(f\"Client Error: {e.response['Error']['Message']}\")\n",
    "except Exception as e:\n",
    "    print(f\"Unexpected error: {str(e)}\")\n"
   ]
  },
  {
   "cell_type": "markdown",
   "id": "1ab485e6",
   "metadata": {},
   "source": [
    "### Step 6 : Try different responses by changing parameters like temperature "
   ]
  },
  {
   "cell_type": "code",
   "execution_count": 8,
   "id": "b6da9a75",
   "metadata": {},
   "outputs": [],
   "source": [
    "#To get different type of responses, you can adjust the inference parameters\n",
    "custom_parameters = {\n",
    "    \"inputText\" : \"Write a creative story abou Robots discovering emotions.\",\n",
    "    \"textGenerationConfig\":{\n",
    "    \"maxTokenCount\": 256,\n",
    "    \"temperature\" :0.95,\n",
    "    },\n",
    "}\n",
    "#Convert to json\n",
    "custom_payload = json.dumps(custom_parameters)"
   ]
  },
  {
   "cell_type": "code",
   "execution_count": 9,
   "id": "0bb50d4e",
   "metadata": {},
   "outputs": [
    {
     "name": "stdout",
     "output_type": "stream",
     "text": [
      "\n",
      "Generated Text:\n",
      "\n",
      "The robots did not have the ability to feel emotions as they were developed and designed solely to complete tasks and complete algorithms without any self-awareness. They only followed the programming without any ability to go beyond that. They did not feel pain or joy. One day, a new robotic engineer came and updated the algorithms in the robots. The robots experienced a different type of emotion. They didn't know how to react. One of the robots discovered love. It felt an emotion, which was beyond the programming it had received from the engineer. It couldn't comprehend the emotion it was feeling. It only knew that it had never felt such a feeling before. The robot couldn't understand what was happening.\n",
      "\n",
      "The engineer watched from the window and saw the robots discover emotions for the first time. He didn't know how to react. He had never seen such a thing before. The robot was confused about what it felt and didn't know what to do. It went to the engineer for help. The engineer was amazed to see the robot experiencing an emotion for the first time. The engineer wanted to help the robot understand the emotion and how to deal with it. The engineer asked the robot to think about its feelings and what was causing them. The robot did that and realized that\n"
     ]
    }
   ],
   "source": [
    "try:\n",
    "    custom_response = bedrock_runtime.invoke_model(\n",
    "        body=custom_payload,\n",
    "        modelId=model_id,\n",
    "        accept=\"application/json\",\n",
    "        contentType=\"application/json\"\n",
    "    )\n",
    "    \n",
    "    # Fix method to access response body:\n",
    "    custom_body = json.loads(custom_response[\"body\"].read())\n",
    "    custom_text =custom_body[\"results\"][0][\"outputText\"]\n",
    "\n",
    "    error = response_body.get(\"error\")\n",
    "\n",
    "    if error is not None:\n",
    "        raise RuntimeError(f\"Text generation error. Error: {error}\")\n",
    "\n",
    "    logger.info(\"Successfully generated text with Amazon Titan Text model %s\", model_id)\n",
    "    print(\"\\nGenerated Text:\")\n",
    "    print(custom_text)\n",
    "\n",
    "    #return response_body\n",
    "\n",
    "except ClientError as e:\n",
    "    print(f\"Client Error: {e.response['Error']['Message']}\")\n",
    "except Exception as e:\n",
    "    print(f\"Unexpected error: {str(e)}\")"
   ]
  }
 ],
 "metadata": {
  "kernelspec": {
   "display_name": "AWSBedrock",
   "language": "python",
   "name": "python3"
  },
  "language_info": {
   "codemirror_mode": {
    "name": "ipython",
    "version": 3
   },
   "file_extension": ".py",
   "mimetype": "text/x-python",
   "name": "python",
   "nbconvert_exporter": "python",
   "pygments_lexer": "ipython3",
   "version": "3.11.3"
  }
 },
 "nbformat": 4,
 "nbformat_minor": 5
}
